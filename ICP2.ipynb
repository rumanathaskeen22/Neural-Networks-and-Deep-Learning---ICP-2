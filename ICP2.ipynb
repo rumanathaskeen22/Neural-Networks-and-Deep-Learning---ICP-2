{
 "cells": [
  {
   "cell_type": "code",
   "execution_count": 52,
   "id": "7e4cc2dd",
   "metadata": {
    "scrolled": true
   },
   "outputs": [
    {
     "name": "stdout",
     "output_type": "stream",
     "text": [
      "First_name = Rumana\n",
      "Last_name = Thaskeen\n",
      "Full_name = Rumana Thaskeen\n",
      "Rmn hsen\n"
     ]
    }
   ],
   "source": [
    "def fullname(fname,lname):\n",
    "    fullnameStr = (first_name + \" \" + last_name)\n",
    "    return fullnameStr #returning the fullname\n",
    "    \n",
    "first_name = str(input(\"First_name = \"));\n",
    "last_name = str(input(\"Last_name = \"));\n",
    "\n",
    "\n",
    "full_name = str (fullname(first_name,last_name))\n",
    "print(\"Full_name = \" + full_name)\n",
    "\n",
    "def string_alternative(altStr):\n",
    "    resultStr = \"\";\n",
    "    for i in range(0,len(altStr),2):\n",
    "        resultStr += altStr[i]\n",
    "    return resultStr #returning the resultant string\n",
    "    \n",
    "alternate_String = str (string_alternative(full_name))\n",
    "print(alternate_String)"
   ]
  },
  {
   "cell_type": "code",
   "execution_count": 53,
   "id": "d5c39ed4",
   "metadata": {},
   "outputs": [
    {
     "name": "stdout",
     "output_type": "stream",
     "text": [
      "Word_count : \n",
      "\n",
      "Python:1\n",
      "Course:2\n",
      "Deep:1\n",
      "Learning:1\n",
      "\n"
     ]
    }
   ],
   "source": [
    "d = dict()  # creating empty dictionary to store the words and there count values\n",
    "\n",
    "file1 = open(\"Input.txt\", 'r')  # Reading the input file\n",
    "lines = file1.readlines()  # read all lines in the list\n",
    "\n",
    "# print(lines)\n",
    "for line in lines:\n",
    "    line = line.strip()  # Remove each line with \\n as new line with strip()\n",
    "    # print(\"line:\", line)\n",
    "    words = line.split(\" \")  # Divide line into words based on \" \"\n",
    "    # print(\"words:\", words)\n",
    "    for word in words:  # for each word in the line\n",
    "        if word in d:  # if already in the dictionary\n",
    "            d[word] = d[word] + 1   # Increment count of word by 1\n",
    "        else:\n",
    "            d[word] = 1  # Add the word to dictionary with count 1\n",
    "\n",
    "# Write the contents of dictionary \n",
    "print(\"Word_count : \\n\") \n",
    "with open('Output.txt', 'w') as file:\n",
    "    for key in list(d.keys()):\n",
    "        \n",
    "        file.write('%s:%s\\n' %(key, d[key]))\n",
    "log = open(\"Output.txt\", \"r\").read()\n",
    "print(log) #print the output "
   ]
  },
  {
   "cell_type": "code",
   "execution_count": 55,
   "id": "27bccf35",
   "metadata": {},
   "outputs": [
    {
     "name": "stdout",
     "output_type": "stream",
     "text": [
      "Enter the Number of customers:4\n",
      "Enter the customer 1 height:150\n",
      "Enter the customer 2 height:155\n",
      "Enter the customer 3 height:145\n",
      "Enter the customer 4 height:148\n",
      "\n",
      "Using NestedLoops:\n",
      "[150, 155, 145, 148]\n",
      "[381.0, 393.7, 368.3, 375.92]\n",
      "\n",
      "Using List Comprehension\n",
      "[150, 155, 145, 148]\n",
      "[381.0, 393.7, 368.3, 375.92]\n"
     ]
    }
   ],
   "source": [
    "customer_count = int(input(\"Enter the Number of customers:\"))\n",
    "inc_list = []\n",
    "cm_list = []\n",
    "\n",
    "# using loops\n",
    "for x in range(1, customer_count+1):\n",
    "    elem = int(input(f\"Enter the customer {x} height:\"))\n",
    "    inc_list.append(elem)\n",
    "    cm_list.append(elem * 2.54)  # appending the elements to list directly\n",
    "print(\"\\nUsing NestedLoops:\")\n",
    "print(inc_list)\n",
    "print(cm_list)\n",
    "\n",
    "cm_list = []\n",
    "for x in range(0, len(inc_list)):  # Iterating the array in which the input elements are stored\n",
    "    cm_list.append(inc_list[x] * 2.54)\n",
    "#print(cm_list)\n",
    "\n",
    "\n",
    "# Using List Comprehension\n",
    "print(\"\\nUsing List Comprehension\")\n",
    "print(inc_list)\n",
    "cm_list = [inc_list[x] * 2.54 for x in range(0, len(inc_list))]\n",
    "print(cm_list) "
   ]
  },
  {
   "cell_type": "code",
   "execution_count": null,
   "id": "5ea8484c",
   "metadata": {},
   "outputs": [],
   "source": []
  },
  {
   "cell_type": "code",
   "execution_count": null,
   "id": "03481da3",
   "metadata": {},
   "outputs": [],
   "source": []
  }
 ],
 "metadata": {
  "kernelspec": {
   "display_name": "Python 3 (ipykernel)",
   "language": "python",
   "name": "python3"
  },
  "language_info": {
   "codemirror_mode": {
    "name": "ipython",
    "version": 3
   },
   "file_extension": ".py",
   "mimetype": "text/x-python",
   "name": "python",
   "nbconvert_exporter": "python",
   "pygments_lexer": "ipython3",
   "version": "3.9.13"
  }
 },
 "nbformat": 4,
 "nbformat_minor": 5
}
